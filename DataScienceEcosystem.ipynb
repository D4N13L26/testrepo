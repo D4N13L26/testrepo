{
 "cells": [
  {
   "cell_type": "markdown",
   "id": "c0ed27c1",
   "metadata": {},
   "source": [
    "<h1> Data Science Tools and Ecosystem <h1>"
   ]
  },
  {
   "cell_type": "markdown",
   "id": "6d2ff57a",
   "metadata": {},
   "source": [
    "<h3> In this notebook, Data Science Tools and Ecosystem are summarized. <h3>"
   ]
  },
  {
   "cell_type": "markdown",
   "id": "1b035444",
   "metadata": {},
   "source": [
    "Some of the popular languages that Data Scientists use are:\n",
    "    \n",
    "    Python.\n",
    "\n",
    "    R Lenguage.\n",
    "\n",
    "    SQL.\n",
    "\n"
   ]
  },
  {
   "cell_type": "markdown",
   "id": "52f4c5d4",
   "metadata": {},
   "source": [
    "<h3> Data Science Libraries <h3>"
   ]
  },
  {
   "cell_type": "markdown",
   "id": "5d4b0cd6",
   "metadata": {},
   "source": [
    "Some of the commonly used libraries used by Data Scientists include:\n",
    "\n",
    "    1.- NumPy.\n",
    "    2.- Matplotlib.\n",
    "    3.- Seaborn.\n",
    "    4.- Spark library.\n",
    "    5.- ggplot2.\n",
    "    \n",
    "    \n",
    "    "
   ]
  },
  {
   "cell_type": "markdown",
   "id": "437c9254",
   "metadata": {},
   "source": [
    "<h3> Development environment open source tools. <h3>  "
   ]
  },
  {
   "cell_type": "markdown",
   "id": "19dabcaf",
   "metadata": {},
   "source": [
    "| Data Science Tools | \n",
    "| ----| \n",
    "| RStudio | \n",
    "| TensorFlow | \n",
    "| Apache Spark.\n"
   ]
  },
  {
   "cell_type": "markdown",
   "id": "99fa0f38",
   "metadata": {},
   "source": [
    "<h3> Below are a few examples of evaluating arithmetic expressions in Python <h3>"
   ]
  },
  {
   "cell_type": "code",
   "execution_count": 3,
   "id": "05ddc173",
   "metadata": {},
   "outputs": [],
   "source": [
    "#Now evaluate the expression \n",
    "\n",
    "#(3*4)+5.\n"
   ]
  },
  {
   "cell_type": "code",
   "execution_count": 9,
   "id": "f815bd3e",
   "metadata": {},
   "outputs": [
    {
     "name": "stdout",
     "output_type": "stream",
     "text": [
      "17\n"
     ]
    }
   ],
   "source": [
    "'''This a simple arithmetic expression to mutiply then add integers'''\n",
    "\n",
    "num1= (3*4)\n",
    "num2= 5\n",
    "result= num1 + num2\n",
    "'''Then execute to ensure the expression returns the expected output of 17.'''\n",
    "\n",
    "print (result)\n",
    "\n",
    "\n",
    "\n"
   ]
  },
  {
   "cell_type": "code",
   "execution_count": 11,
   "id": "6b0ea49d",
   "metadata": {},
   "outputs": [],
   "source": [
    "#Now we convert minutes to hours."
   ]
  },
  {
   "cell_type": "code",
   "execution_count": 13,
   "id": "ae2bbe05",
   "metadata": {},
   "outputs": [
    {
     "name": "stdout",
     "output_type": "stream",
     "text": [
      "3.3333333333333335\n"
     ]
    }
   ],
   "source": [
    "''' This will convert 200 minutes to hours by diving by 60 '''\n",
    "hrs= 60\n",
    "minutes= 200\n",
    "hours= minutes/hrs\n",
    "'''Then execute the to ensure the expression returns the expected output of hours.'''\n",
    "\n",
    "\n",
    "print(hours)\n",
    "\n",
    "\n",
    "\n",
    "\n",
    "\n"
   ]
  },
  {
   "cell_type": "markdown",
   "id": "7ae0e1bb",
   "metadata": {},
   "source": [
    "**Objectives**"
   ]
  },
  {
   "cell_type": "markdown",
   "id": "1b246e7b",
   "metadata": {},
   "source": [
    "List popular languages for Data Science:\n",
    "    \n",
    "    - Python.\n",
    "\n",
    "    - R Lenguage.\n",
    "\n",
    "    - SQL."
   ]
  },
  {
   "cell_type": "markdown",
   "id": "8308d8b9",
   "metadata": {},
   "source": [
    "<h2>Author:<h2>\n",
    "    \n",
    "    \n",
    "    \n"
   ]
  },
  {
   "cell_type": "markdown",
   "id": "5d5baf60",
   "metadata": {},
   "source": [
    "Daniel C."
   ]
  },
  {
   "cell_type": "code",
   "execution_count": null,
   "id": "8bdabc99",
   "metadata": {},
   "outputs": [],
   "source": []
  }
 ],
 "metadata": {
  "kernelspec": {
   "display_name": "Python 3 (ipykernel)",
   "language": "python",
   "name": "python3"
  },
  "language_info": {
   "codemirror_mode": {
    "name": "ipython",
    "version": 3
   },
   "file_extension": ".py",
   "mimetype": "text/x-python",
   "name": "python",
   "nbconvert_exporter": "python",
   "pygments_lexer": "ipython3",
   "version": "3.9.12"
  }
 },
 "nbformat": 4,
 "nbformat_minor": 5
}
